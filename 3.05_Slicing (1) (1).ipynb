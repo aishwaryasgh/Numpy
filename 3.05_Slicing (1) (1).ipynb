{
 "cells": [
  {
   "cell_type": "markdown",
   "id": "3e4069c0-fb03-401c-be74-06141d895001",
   "metadata": {
    "id": "3e4069c0-fb03-401c-be74-06141d895001"
   },
   "source": [
    "# __Slicing__"
   ]
  },
  {
   "cell_type": "markdown",
   "id": "9ec43157-9c56-47b0-93f2-795dc2ad8837",
   "metadata": {
    "id": "9ec43157-9c56-47b0-93f2-795dc2ad8837"
   },
   "source": [
    "## __Agenda__\n",
    "In this lesson, we will cover the following concepts with the help of examples:\n",
    "\n",
    "- NumPy Array Slicing\n",
    "  * Slicing 1D NumPy Arrays\n",
    "  * Slicing Using Step Value\n",
    "  * Slicing: 2D Array\n",
    "  * Slicing: 3D Array\n",
    "  * Negative Slicing"
   ]
  },
  {
   "cell_type": "markdown",
   "id": "1f4c4f5b-38c0-4324-b01f-e4d3feafee9e",
   "metadata": {
    "id": "1f4c4f5b-38c0-4324-b01f-e4d3feafee9e"
   },
   "source": [
    "## __1. NumPy Array Slicing__\n",
    "\n",
    "- In Python, slicing refers to moving elements from one index to another.\n",
    "- Instead of using an index, the slice is passed as **[start:end]**.\n",
    "- Another way to pass the slice is to add a step as **[start:end:step]**.\n",
    "- In slicing, if the starting is not passed, it is considered as 0. If the step is not passed as 1 and if the end is not passed, it is considered as the length of the array in that dimension."
   ]
  },
  {
   "cell_type": "markdown",
   "id": "c537aba4-474e-49bb-a10a-bfa69b689bda",
   "metadata": {
    "id": "c537aba4-474e-49bb-a10a-bfa69b689bda"
   },
   "source": [
    "### __1.1 Slicing 1D NumPy Arrays__"
   ]
  },
  {
   "cell_type": "markdown",
   "id": "ff9bd87e-32b9-4ad4-abc1-da3d4d5f5a63",
   "metadata": {
    "id": "ff9bd87e-32b9-4ad4-abc1-da3d4d5f5a63"
   },
   "source": [
    "#### Example 1: Use slicing to retrieve employee ratings for a team of seven employees in the first quarter from an array"
   ]
  },
  {
   "cell_type": "code",
   "execution_count": 33,
   "id": "755261a5-affd-4af4-a855-b403dba8ac32",
   "metadata": {
    "id": "755261a5-affd-4af4-a855-b403dba8ac32",
    "outputId": "aa542e04-0fa9-4289-d993-cf2914fef770"
   },
   "outputs": [
    {
     "name": "stdout",
     "output_type": "stream",
     "text": [
      "-------------------------\n",
      "[4 3 5 6 8 9]\n"
     ]
    }
   ],
   "source": [
    "import numpy as np\n",
    "Employee_rating = np.array([1, 4, 3, 5, 6, 8, 9, 10, 12])\n",
    "print(\"-------------------------\")\n",
    "print(Employee_rating[1:7])"
   ]
  },
  {
   "cell_type": "markdown",
   "id": "3c080719-87b0-4d79-a99e-09493780843c",
   "metadata": {
    "id": "3c080719-87b0-4d79-a99e-09493780843c"
   },
   "source": [
    "#### Example 2: Print the list of three subjects from the fourth index to the end"
   ]
  },
  {
   "cell_type": "code",
   "execution_count": 27,
   "id": "9aeed07b-ca8e-46c3-a68b-540eec9a5fac",
   "metadata": {
    "id": "9aeed07b-ca8e-46c3-a68b-540eec9a5fac",
    "outputId": "79099e24-10db-422c-ed62-ccc288624f56"
   },
   "outputs": [
    {
     "name": "stdout",
     "output_type": "stream",
     "text": [
      "-------------------------\n",
      "['OPPs' 'Java' 'Cloud']\n"
     ]
    }
   ],
   "source": [
    "Books = np.array(['Physics','DataScience','Maths','Python','Hadoop', 'OPPs', 'Java', 'Cloud'])\n",
    "print(\"-------------------------\")\n",
    "print(Books[5:])"
   ]
  },
  {
   "cell_type": "markdown",
   "id": "de8b9f8a-0d02-4f56-9873-0e9b7c68a3d6",
   "metadata": {
    "id": "de8b9f8a-0d02-4f56-9873-0e9b7c68a3d6"
   },
   "source": [
    "### __1.2 Slicing Using Step Value__"
   ]
  },
  {
   "cell_type": "code",
   "execution_count": 25,
   "id": "7537487d-b1c2-4ab7-8758-34eee371734f",
   "metadata": {
    "id": "7537487d-b1c2-4ab7-8758-34eee371734f",
    "outputId": "be6c32eb-8864-47aa-978a-a36161b27b5c"
   },
   "outputs": [
    {
     "name": "stdout",
     "output_type": "stream",
     "text": [
      "[8 7 6 5 4 3 2 1]\n",
      "-------------------------\n",
      "[7 4]\n"
     ]
    }
   ],
   "source": [
    "X = np.array([8, 7, 6, 5, 4, 3, 2, 1])\n",
    "print(X)\n",
    "print(\"-------------------------\")\n",
    "print(X[1:6:3])"
   ]
  },
  {
   "cell_type": "markdown",
   "id": "494532f6-66af-4014-8bed-c59baa7fe0c8",
   "metadata": {
    "id": "494532f6-66af-4014-8bed-c59baa7fe0c8"
   },
   "source": [
    "### __1.3 Slicing: 2D Array__"
   ]
  },
  {
   "cell_type": "code",
   "execution_count": 23,
   "id": "3106010b-cae1-47a3-a0a6-7cd7496bdfce",
   "metadata": {
    "id": "3106010b-cae1-47a3-a0a6-7cd7496bdfce",
    "outputId": "8d8fd0fd-ae68-4eb4-a4cf-9de8ab2bbfda"
   },
   "outputs": [
    {
     "name": "stdout",
     "output_type": "stream",
     "text": [
      "[[ 11  22  33  44  55]\n",
      " [ 66  77  88  99 110]]\n",
      "-------------------------\n",
      "[33]\n"
     ]
    }
   ],
   "source": [
    "Z = np.array([[11, 22, 33, 44, 55],\n",
    "              [66, 77, 88, 99, 110]])\n",
    "print(Z)\n",
    "print(\"-------------------------\")\n",
    "print(Z[0, 2:3])"
   ]
  },
  {
   "cell_type": "markdown",
   "id": "9cdaf70d-8e52-40ce-9eb1-f655b1b77bbf",
   "metadata": {
    "id": "9cdaf70d-8e52-40ce-9eb1-f655b1b77bbf"
   },
   "source": [
    "### __1.4 Slicing: 3D Array__"
   ]
  },
  {
   "cell_type": "code",
   "execution_count": 21,
   "id": "2e1893a0-5ab4-4100-80d9-ded444672dd7",
   "metadata": {
    "id": "2e1893a0-5ab4-4100-80d9-ded444672dd7",
    "outputId": "3134c0ad-888a-4916-8af7-f551417bdaef"
   },
   "outputs": [
    {
     "name": "stdout",
     "output_type": "stream",
     "text": [
      "[[[ 1  2  3]\n",
      "  [ 4  5  6]]\n",
      "\n",
      " [[ 7  8  9]\n",
      "  [10 11 12]]]\n",
      "-------------------------\n",
      "[[5 6]]\n"
     ]
    }
   ],
   "source": [
    "array_3d = np.array([[[1,2,3],\n",
    "                      [4,5,6]],\n",
    "                     [[7,8,9],\n",
    "                      [10,11,12]]])\n",
    "print(array_3d)\n",
    "print(\"-------------------------\")\n",
    "print(array_3d[0,1:,1:])"
   ]
  },
  {
   "cell_type": "markdown",
   "id": "5e8eafc4-56a3-45a5-8a1c-f3ff39049ce2",
   "metadata": {
    "id": "5e8eafc4-56a3-45a5-8a1c-f3ff39049ce2"
   },
   "source": [
    "### __1.5 Negative Slicing__\n",
    "- Negative slicing is the same as negative indexing, which is interpreted as counting from the end of an array.\n",
    "\n",
    "![link text](https://labcontent.simplicdn.net/data-content/content-assets/Data_and_AI/ADSP_Images/Lesson_03_NumPy/5_Slicing/Image_1.png)"
   ]
  },
  {
   "cell_type": "code",
   "execution_count": 12,
   "id": "da999535-ee59-4cb0-9842-ec55a1ead5d8",
   "metadata": {
    "id": "da999535-ee59-4cb0-9842-ec55a1ead5d8",
    "outputId": "a32d9d51-5f19-45a8-8ea5-fc6df85b3a3d"
   },
   "outputs": [
    {
     "name": "stdout",
     "output_type": "stream",
     "text": [
      "[13 34 58 69 44 56 37]\n"
     ]
    }
   ],
   "source": [
    "# Negative slicing for 1D array\n",
    "Neg_slice = np.array([13, 34, 58, 69, 44, 56, 37,24])\n",
    "print(Neg_slice[:-1])"
   ]
  },
  {
   "cell_type": "markdown",
   "id": "3190511b-aec6-4d4e-aa21-6fb9b68cb356",
   "metadata": {
    "id": "3190511b-aec6-4d4e-aa21-6fb9b68cb356"
   },
   "source": [
    "## __Assisted Practice__"
   ]
  },
  {
   "cell_type": "markdown",
   "id": "054caea8-be90-480d-88db-173d48cb6a71",
   "metadata": {
    "id": "054caea8-be90-480d-88db-173d48cb6a71"
   },
   "source": [
    "### __Problem Statement:__\n",
    "\n",
    "- Creating arrays for slicing:\n",
    "  * Create a 1D NumPy array with at least 15 elements\n",
    "  * Create a 2D NumPy array with a minimum of 4 rows and 5 columns\n",
    "  * Create a 3D NumPy array with at least 2 matrices, each containing 3 rows and 4 columns\n",
    "\n",
    "- Slicing 1D arrays:\n",
    "  * Perform and demonstrate different slices on the 1D array, explore it using step values\n",
    "\n",
    "- Slicing 2D arrays:\n",
    "  * Slice rows and columns separately and in combination\n",
    "\n",
    "- Slicing 3D arrays:\n",
    "  * Perform slicing to access different matrices, rows within matrices, and elements within rows\n",
    "\n",
    "- Negative slicing:\n",
    "  * Implement negative slicing on 1D, 2D, and 3D arrays\n",
    "  * Compare the outcomes of negative slicing with positive slicing"
   ]
  },
  {
   "cell_type": "code",
   "execution_count": 15,
   "id": "7e2f5b29-9686-4c43-9216-a08dcbcb02a4",
   "metadata": {
    "id": "7e2f5b29-9686-4c43-9216-a08dcbcb02a4"
   },
   "outputs": [
    {
     "name": "stdout",
     "output_type": "stream",
     "text": [
      "1D Array:\n",
      "[ 1  2  3  4  5  6  7  8  9 10 11 12 13 14 15]\n"
     ]
    }
   ],
   "source": [
    "import numpy as np\n",
    "\n",
    "# Creating a 1D NumPy array with at least 15 elements\n",
    "array_1d = np.arange(1, 16)\n",
    "print(\"1D Array:\")\n",
    "print(array_1d)\n",
    "\n"
   ]
  },
  {
   "cell_type": "code",
   "execution_count": 17,
   "id": "73a9407a-30fd-4b47-b2fa-533f993a60a1",
   "metadata": {},
   "outputs": [
    {
     "name": "stdout",
     "output_type": "stream",
     "text": [
      "\n",
      "2D Array:\n",
      "[[ 1  2  3  4  5]\n",
      " [ 6  7  8  9 10]\n",
      " [11 12 13 14 15]\n",
      " [16 17 18 19 20]]\n"
     ]
    }
   ],
   "source": [
    "# Creating a 2D NumPy array with a minimum of 4 rows and 5 columns\n",
    "array_2d = np.arange(1, 21).reshape(4, 5)\n",
    "print(\"\\n2D Array:\")\n",
    "print(array_2d)\n"
   ]
  },
  {
   "cell_type": "code",
   "execution_count": 51,
   "id": "271c9db4-f016-4fbc-97e4-87e5e96260b6",
   "metadata": {},
   "outputs": [
    {
     "name": "stdout",
     "output_type": "stream",
     "text": [
      "\n",
      "3D Array:\n",
      "[[[ 1  2  3  4]\n",
      "  [ 5  6  7  8]\n",
      "  [ 9 10 11 12]]\n",
      "\n",
      " [[13 14 15 16]\n",
      "  [17 18 19 20]\n",
      "  [21 22 23 24]]]\n"
     ]
    }
   ],
   "source": [
    "# Creating a 3D NumPy array with at least 2 matrices, each containing 3 rows and 4 columns\n",
    "array_3d = np.arange(1, 25).reshape(2, 3, 4)\n",
    "print(\"\\n3D Array:\")\n",
    "print(array_3d)\n",
    "\n"
   ]
  },
  {
   "cell_type": "code",
   "execution_count": 57,
   "id": "29a60248-dccd-4d7c-b16e-1e799c11e084",
   "metadata": {},
   "outputs": [
    {
     "name": "stdout",
     "output_type": "stream",
     "text": [
      "\n",
      "Slicing 1D Array:\n",
      "-------------------------\n",
      "First 5 elements: [1 2 3 4 5]\n",
      "-------------------------\n",
      "Last 5 elements: [11 12 13 14 15]\n",
      "-------------------------\n",
      "Every 2nd element: [ 1  3  5  7  9 11 13 15]\n",
      "-------------------------\n",
      "Reverse array: [15 14 13 12 11 10  9  8  7  6  5  4  3  2  1]\n"
     ]
    }
   ],
   "source": [
    "# Slicing 1D Array\n",
    "print(\"\\nSlicing 1D Array:\")\n",
    "\n",
    "print(\"-------------------------\")\n",
    "print(\"First 5 elements:\", array_1d[:5])\n",
    "\n",
    "print(\"-------------------------\")\n",
    "print(\"Last 5 elements:\", array_1d[-5:])\n",
    "\n",
    "print(\"-------------------------\")\n",
    "print(\"Every 2nd element:\", array_1d[::2])\n",
    "\n",
    "print(\"-------------------------\")\n",
    "print(\"Reverse array:\", array_1d[::-1])\n",
    "\n"
   ]
  },
  {
   "cell_type": "code",
   "execution_count": 59,
   "id": "0005e3fd-e051-43d1-84ab-7fb106b4e7b4",
   "metadata": {},
   "outputs": [
    {
     "name": "stdout",
     "output_type": "stream",
     "text": [
      "\n",
      "Slicing 2D Array:\n",
      "-------------------------\n",
      "First 2 rows:\n",
      " [[ 1  2  3  4  5]\n",
      " [ 6  7  8  9 10]]\n",
      "-------------------------\n",
      "Last 2 columns:\n",
      " [[ 4  5]\n",
      " [ 9 10]\n",
      " [14 15]\n",
      " [19 20]]\n",
      "-------------------------\n",
      "Middle 2x3 subarray:\n",
      " [[ 7  8  9]\n",
      " [12 13 14]]\n"
     ]
    }
   ],
   "source": [
    "# Slicing 2D Array\n",
    "print(\"\\nSlicing 2D Array:\")\n",
    "print(\"-------------------------\")\n",
    "print(\"First 2 rows:\\n\", array_2d[:2, :])\n",
    "print(\"-------------------------\")\n",
    "print(\"Last 2 columns:\\n\", array_2d[:, -2:])\n",
    "print(\"-------------------------\")\n",
    "print(\"Middle 2x3 subarray:\\n\", array_2d[1:3, 1:4]\n",
    "     )\n",
    "\n"
   ]
  },
  {
   "cell_type": "code",
   "execution_count": 61,
   "id": "bc3f7462-4d05-4867-a6e8-fd61d94f53da",
   "metadata": {},
   "outputs": [
    {
     "name": "stdout",
     "output_type": "stream",
     "text": [
      "\n",
      "Slicing 3D Array:\n",
      "-------------------------\n",
      "First matrix:\n",
      " [[ 1  2  3  4]\n",
      " [ 5  6  7  8]\n",
      " [ 9 10 11 12]]\n",
      "-------------------------\n",
      "Second row of first matrix:\n",
      " [5 6 7 8]\n",
      "-------------------------\n",
      "Last two columns of second matrix:\n",
      " [[15 16]\n",
      " [19 20]\n",
      " [23 24]]\n"
     ]
    }
   ],
   "source": [
    "# Slicing 3D Array\n",
    "print(\"\\nSlicing 3D Array:\")\n",
    "print(\"-------------------------\")\n",
    "print(\"First matrix:\\n\", array_3d[0])\n",
    "print(\"-------------------------\")\n",
    "print(\"Second row of first matrix:\\n\", array_3d[0, 1, :])\n",
    "print(\"-------------------------\")\n",
    "print(\"Last two columns of second matrix:\\n\", array_3d[1, :, -2:])\n",
    "\n"
   ]
  },
  {
   "cell_type": "code",
   "execution_count": 63,
   "id": "99da2739-0076-43c5-85ca-bd0fac925cb5",
   "metadata": {},
   "outputs": [
    {
     "name": "stdout",
     "output_type": "stream",
     "text": [
      "\n",
      "Negative Slicing:\n",
      "-------------------------\n",
      "Last 5 elements of 1D array: [11 12 13 14 15]\n",
      "-------------------------\n",
      "Last row of 2D array:\n",
      " [16 17 18 19 20]\n",
      "-------------------------\n",
      "Last matrix of 3D array:\n",
      " [[13 14 15 16]\n",
      " [17 18 19 20]\n",
      " [21 22 23 24]]\n"
     ]
    }
   ],
   "source": [
    "# Negative Slicing\n",
    "print(\"\\nNegative Slicing:\")\n",
    "print(\"-------------------------\")\n",
    "print(\"Last 5 elements of 1D array:\", array_1d[-5:])\n",
    "print(\"-------------------------\")\n",
    "print(\"Last row of 2D array:\\n\", array_2d[-1, :])\n",
    "print(\"-------------------------\")\n",
    "print(\"Last matrix of 3D array:\\n\", array_3d[-1])\n"
   ]
  },
  {
   "cell_type": "code",
   "execution_count": null,
   "id": "08353643-d3a8-4cc7-8489-d42d10cf4823",
   "metadata": {},
   "outputs": [],
   "source": []
  },
  {
   "cell_type": "code",
   "execution_count": null,
   "id": "7da95682-7c6e-4f41-be29-d40a5221b9e6",
   "metadata": {},
   "outputs": [],
   "source": []
  }
 ],
 "metadata": {
  "colab": {
   "provenance": []
  },
  "kernelspec": {
   "display_name": "Python [conda env:base] *",
   "language": "python",
   "name": "conda-base-py"
  },
  "language_info": {
   "codemirror_mode": {
    "name": "ipython",
    "version": 3
   },
   "file_extension": ".py",
   "mimetype": "text/x-python",
   "name": "python",
   "nbconvert_exporter": "python",
   "pygments_lexer": "ipython3",
   "version": "3.12.7"
  }
 },
 "nbformat": 4,
 "nbformat_minor": 5
}
