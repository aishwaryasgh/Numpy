{
 "cells": [
  {
   "cell_type": "markdown",
   "id": "8be173f3-d376-4cd2-aafd-8a03442bf197",
   "metadata": {
    "id": "8be173f3-d376-4cd2-aafd-8a03442bf197"
   },
   "source": [
    "# __Indexing__"
   ]
  },
  {
   "cell_type": "markdown",
   "id": "945c7b02-41f7-4175-aa45-4da0224d383f",
   "metadata": {
    "id": "945c7b02-41f7-4175-aa45-4da0224d383f"
   },
   "source": [
    "## __Agenda__\n",
    "In this lesson, we will cover the following concepts with the help of examples:\n",
    "\n",
    "- NumPy Array Indexing\n",
    "  * Access Elements in the 1D NumPy Array\n",
    "  * Access Elements in the 2D NumPy Array\n",
    "  * Access Elements in 3D NumPy Array\n",
    "  * Negative Indexing"
   ]
  },
  {
   "cell_type": "markdown",
   "id": "fefd7806-d1ee-4b07-abbc-67fd92291038",
   "metadata": {
    "id": "fefd7806-d1ee-4b07-abbc-67fd92291038"
   },
   "source": [
    "## __1. NumPy Array Indexing__ ##\n",
    "NumPy indexing allows you to access an array element using an index value, which begins from 0.\n",
    "\n",
    "![link text](https://labcontent.simplicdn.net/data-content/content-assets/Data_and_AI/ADSP_Images/Lesson_03_NumPy/4_Indexing/Image_1.png)"
   ]
  },
  {
   "cell_type": "code",
   "execution_count": 1,
   "id": "62ac7aec-7869-4cfe-a20f-4e412051d178",
   "metadata": {
    "id": "62ac7aec-7869-4cfe-a20f-4e412051d178"
   },
   "outputs": [],
   "source": [
    "# Let's create 1D, 2D and 3D NumPy arrays:\n",
    "import numpy as np\n",
    "array_1d = np.array([1,2,3,4,5,6])\n",
    "array_2d = np.array([[1,2,3],[4,5,6]])\n",
    "array_3d = np.array([[[1,2,3],[4,5,6]],[[7,8,9],[10,11,12]]])"
   ]
  },
  {
   "cell_type": "markdown",
   "id": "6e8bd253-eda8-4f7d-80eb-d4f7b8b1700d",
   "metadata": {
    "id": "6e8bd253-eda8-4f7d-80eb-d4f7b8b1700d"
   },
   "source": [
    "### __1.1 Access Elements in the 1D NumPy Array__ ###"
   ]
  },
  {
   "cell_type": "code",
   "execution_count": 3,
   "id": "56306db0-bbd3-4d84-b78c-c817f6840721",
   "metadata": {},
   "outputs": [
    {
     "name": "stdout",
     "output_type": "stream",
     "text": [
      "[1 2 3 4 5 6]\n"
     ]
    }
   ],
   "source": [
    "print(array_1d)"
   ]
  },
  {
   "cell_type": "code",
   "execution_count": 5,
   "id": "718321d1-a537-4cd8-a336-95763e6ea778",
   "metadata": {},
   "outputs": [
    {
     "name": "stdout",
     "output_type": "stream",
     "text": [
      "[[1 2 3]\n",
      " [4 5 6]]\n"
     ]
    }
   ],
   "source": [
    "print(array_2d)"
   ]
  },
  {
   "cell_type": "code",
   "execution_count": 7,
   "id": "6511e344-491f-4547-bf2b-b5327c075157",
   "metadata": {},
   "outputs": [
    {
     "name": "stdout",
     "output_type": "stream",
     "text": [
      "[[[ 1  2  3]\n",
      "  [ 4  5  6]]\n",
      "\n",
      " [[ 7  8  9]\n",
      "  [10 11 12]]]\n"
     ]
    }
   ],
   "source": [
    "print(array_3d)\n"
   ]
  },
  {
   "cell_type": "code",
   "execution_count": 13,
   "id": "a84248e0-fb87-48bd-8ae7-2a076fc07a76",
   "metadata": {},
   "outputs": [
    {
     "name": "stdout",
     "output_type": "stream",
     "text": [
      "11\n"
     ]
    }
   ],
   "source": [
    "print(array_3d[1,1,1])"
   ]
  },
  {
   "cell_type": "code",
   "execution_count": null,
   "id": "970a318e-7e2f-42e1-9a41-1cf30e032212",
   "metadata": {
    "id": "970a318e-7e2f-42e1-9a41-1cf30e032212",
    "outputId": "f50e2896-d6c6-4650-a5d1-45d55f7ff4d3"
   },
   "outputs": [
    {
     "name": "stdout",
     "output_type": "stream",
     "text": [
      "4\n"
     ]
    }
   ],
   "source": [
    "# Print the value of index 3\n",
    "print(array_1d[3])"
   ]
  },
  {
   "cell_type": "code",
   "execution_count": 15,
   "id": "6c58b0e6-00f9-4873-9a54-9161ee262d03",
   "metadata": {
    "id": "6c58b0e6-00f9-4873-9a54-9161ee262d03",
    "outputId": "935320a4-8a3f-4753-95c9-ca5c25d82761"
   },
   "outputs": [
    {
     "name": "stdout",
     "output_type": "stream",
     "text": [
      "3\n"
     ]
    }
   ],
   "source": [
    "# Print the addition of indexes 0 and 1\n",
    "print(array_1d[1] + array_1d[0])"
   ]
  },
  {
   "cell_type": "markdown",
   "id": "d97f78b9-6e30-4410-96e2-cd2ff306cfb2",
   "metadata": {
    "id": "d97f78b9-6e30-4410-96e2-cd2ff306cfb2"
   },
   "source": [
    "### __1.2 Access Elements in the 2D NumPy Array__\n",
    "Consider a 2D array as a table, with dimensions as rows and indexes as columns.\n",
    "\n",
    "![link text](https://labcontent.simplicdn.net/data-content/content-assets/Data_and_AI/ADSP_Images/Lesson_03_NumPy/4_Indexing/Image_2.png)"
   ]
  },
  {
   "cell_type": "code",
   "execution_count": 18,
   "id": "0c2c6e40-39df-4aeb-8f8c-31b4d0c477d9",
   "metadata": {
    "id": "0c2c6e40-39df-4aeb-8f8c-31b4d0c477d9",
    "outputId": "70aad54a-fe53-4075-da5b-60296f40f017"
   },
   "outputs": [
    {
     "name": "stdout",
     "output_type": "stream",
     "text": [
      "3rd element on 1st row:  3\n"
     ]
    }
   ],
   "source": [
    "# Print third element of the first row of a 2D array\n",
    "print('3rd element on 1st row: ', array_2d[0, 2])"
   ]
  },
  {
   "cell_type": "code",
   "execution_count": 20,
   "id": "944b59fc-7094-461c-9062-0780e42f4bed",
   "metadata": {
    "id": "944b59fc-7094-461c-9062-0780e42f4bed",
    "outputId": "fefc1efd-6fc9-456e-ff92-df6379953212"
   },
   "outputs": [
    {
     "name": "stdout",
     "output_type": "stream",
     "text": [
      "2nd element on 2nd row:  5\n"
     ]
    }
   ],
   "source": [
    "# Print second element of the second row of a 2D array\n",
    "print('2nd element on 2nd row: ', array_2d[1, 1])"
   ]
  },
  {
   "cell_type": "markdown",
   "id": "998878bd-d720-4378-ae52-0918e9d4b397",
   "metadata": {
    "id": "998878bd-d720-4378-ae52-0918e9d4b397"
   },
   "source": [
    "### __1.3 Access Elements in 3D NumPy Array__ ###\n",
    "- [x,y,z] corresponds to xth element, yth row, and zth column."
   ]
  },
  {
   "cell_type": "code",
   "execution_count": null,
   "id": "52de369c-75d3-46b4-8f01-1c83d07ff6cd",
   "metadata": {
    "id": "52de369c-75d3-46b4-8f01-1c83d07ff6cd",
    "outputId": "8c970d65-1163-4a88-9f50-000fa2d84a52"
   },
   "outputs": [
    {
     "name": "stdout",
     "output_type": "stream",
     "text": [
      "10\n"
     ]
    }
   ],
   "source": [
    "# Print the first element of the second array\n",
    "print(array_3d[1, 1, 0])"
   ]
  },
  {
   "cell_type": "markdown",
   "id": "720ef2b2-d7e3-4a45-850c-90d0be17d357",
   "metadata": {
    "id": "720ef2b2-d7e3-4a45-850c-90d0be17d357"
   },
   "source": [
    "### __1.4 Negative Indexing__\n",
    "\n",
    "- Negative indices are counted from the end of an array.\n",
    "- In a negative indexing system, the last element will be the first element with an index of -1, the second last element with an index of -2, and so on."
   ]
  },
  {
   "cell_type": "code",
   "execution_count": 22,
   "id": "4a0cb40d-c09a-485c-bb02-12cd74859973",
   "metadata": {
    "id": "4a0cb40d-c09a-485c-bb02-12cd74859973",
    "outputId": "f17a7b16-b418-4890-a56b-142217d21a13"
   },
   "outputs": [
    {
     "name": "stdout",
     "output_type": "stream",
     "text": [
      "4\n"
     ]
    }
   ],
   "source": [
    " # Print the fourth element of the 1D array using negative indexing\n",
    "print(array_1d[-3])"
   ]
  },
  {
   "cell_type": "code",
   "execution_count": null,
   "id": "145c1d5f-8875-4335-9ce1-98f22bb50a30",
   "metadata": {
    "id": "145c1d5f-8875-4335-9ce1-98f22bb50a30",
    "outputId": "0d111ef4-31d2-4d39-9fbd-15810c2c0ccf"
   },
   "outputs": [
    {
     "name": "stdout",
     "output_type": "stream",
     "text": [
      "6\n"
     ]
    }
   ],
   "source": [
    "# Print the last element of the 2D array using negative indexing\n",
    "print(array_2d[1,-1])"
   ]
  },
  {
   "cell_type": "code",
   "execution_count": 27,
   "id": "7f80dcaa-28a6-4c49-97fb-c7b10e21e69f",
   "metadata": {
    "id": "7f80dcaa-28a6-4c49-97fb-c7b10e21e69f",
    "outputId": "315f3efe-1fcd-4175-f3ed-cd868521fc1c"
   },
   "outputs": [
    {
     "name": "stdout",
     "output_type": "stream",
     "text": [
      "[[[ 1  2  3]\n",
      "  [ 4  5  6]]\n",
      "\n",
      " [[ 7  8  9]\n",
      "  [10 11 12]]]\n",
      "12\n"
     ]
    }
   ],
   "source": [
    "# Print the last element of the 3D array using negative indexing\n",
    "print(array_3d)\n",
    "print(array_3d[1,1,-1])"
   ]
  },
  {
   "cell_type": "markdown",
   "id": "0862a3aa-8b30-4e99-bf04-c1555516da51",
   "metadata": {
    "id": "0862a3aa-8b30-4e99-bf04-c1555516da51"
   },
   "source": [
    "## __Assisted Practice__"
   ]
  },
  {
   "cell_type": "markdown",
   "id": "3240eb9f-7c9c-4df4-8955-d91a002899d6",
   "metadata": {
    "id": "3240eb9f-7c9c-4df4-8955-d91a002899d6"
   },
   "source": [
    "### __Problem Statement:__\n",
    "\n",
    "1. Create a 1D NumPy array with at least 10 elements\n",
    "2. Create a 2D NumPy array with a minimum of 3 rows and 4 columns\n",
    "3. Create a 3D NumPy array with at least 2 matrices, each containing 2 rows and 3 columns\n",
    "4. Accessing Elements in Arrays\n",
    "5. Access and print various elements from 1D, 2D, and, 3D using positive indexing\n",
    "6. Perform and print some basic arithmetic operations (like addition, subtraction) using elements accessed from 1D, 2D, and, 3D arrays\n",
    "7. Access and print elements using negative indices in all three arrays"
   ]
  },
  {
   "cell_type": "code",
   "execution_count": 1,
   "id": "d040ce10-ef60-4c2a-af7b-6e3fca329a5e",
   "metadata": {
    "id": "d040ce10-ef60-4c2a-af7b-6e3fca329a5e"
   },
   "outputs": [
    {
     "name": "stdout",
     "output_type": "stream",
     "text": [
      "1D Array:\n",
      "[ 1  2  3  4  5  6  7  8  9 10]\n"
     ]
    }
   ],
   "source": [
    "import numpy as np\n",
    "\n",
    "# 1. Create a 1D NumPy array with at least 10 elements\n",
    "arr_1d = np.array([1, 2, 3, 4, 5, 6, 7, 8, 9, 10])\n",
    "print(\"1D Array:\")\n",
    "print(arr_1d)\n",
    "\n"
   ]
  },
  {
   "cell_type": "code",
   "execution_count": 3,
   "id": "815cb20b-642e-4038-8f4c-3cfdedfa88e7",
   "metadata": {},
   "outputs": [
    {
     "name": "stdout",
     "output_type": "stream",
     "text": [
      "\n",
      "2D Array:\n",
      "[[11 12 13 14]\n",
      " [15 16 17 18]\n",
      " [19 20 21 22]]\n"
     ]
    }
   ],
   "source": [
    "# 2. Create a 2D NumPy array with a minimum of 3 rows and 4 columns\n",
    "arr_2d = np.array([[11, 12, 13, 14],\n",
    "                    [15, 16, 17, 18],\n",
    "                    [19, 20, 21, 22]])\n",
    "print(\"\\n2D Array:\")\n",
    "print(arr_2d)\n",
    "\n"
   ]
  },
  {
   "cell_type": "code",
   "execution_count": 5,
   "id": "3afd219b-38e5-4339-ae8c-88d9ef199c32",
   "metadata": {},
   "outputs": [
    {
     "name": "stdout",
     "output_type": "stream",
     "text": [
      "\n",
      "3D Array:\n",
      "[[[23 24 25]\n",
      "  [26 27 28]]\n",
      "\n",
      " [[29 30 31]\n",
      "  [32 33 34]]]\n"
     ]
    }
   ],
   "source": [
    "# 3. Create a 3D NumPy array with at least 2 matrices, each containing 2 rows and 3 columns\n",
    "arr_3d = np.array([[[23, 24, 25], [26, 27, 28]],\n",
    "                    [[29, 30, 31], [32, 33, 34]]])\n",
    "print(\"\\n3D Array:\")\n",
    "print(arr_3d)\n",
    "\n"
   ]
  },
  {
   "cell_type": "code",
   "execution_count": 13,
   "id": "f16a3364-c8d1-4fa8-9b73-bf672954d2ac",
   "metadata": {},
   "outputs": [
    {
     "name": "stdout",
     "output_type": "stream",
     "text": [
      "\n",
      "Accessing elements using positive indices:\n",
      "-------------------------\n",
      "Element at index 3 in 1D array: 4\n",
      "-------------------------\n",
      "Element at row 2, column 1 in 2D array: 20\n",
      "-------------------------\n",
      "Element at matrix 1, row 1, column 2 in 3D array: 34\n"
     ]
    }
   ],
   "source": [
    "# 4. Accessing Elements in Arrays\n",
    "# Accessing elements using positive indices\n",
    "print(\"\\nAccessing elements using positive indices:\")\n",
    "print(\"-------------------------\")\n",
    "print(\"Element at index 3 in 1D array:\", arr_1d[3])\n",
    "print(\"-------------------------\")\n",
    "print(\"Element at row 2, column 1 in 2D array:\", arr_2d[2, 1])\n",
    "print(\"-------------------------\")\n",
    "print(\"Element at matrix 1, row 1, column 2 in 3D array:\", arr_3d[1, 1, 2])\n",
    "\n"
   ]
  },
  {
   "cell_type": "code",
   "execution_count": 15,
   "id": "e7230f7e-88a9-4fa1-a0e8-aaccc53bcb23",
   "metadata": {},
   "outputs": [
    {
     "name": "stdout",
     "output_type": "stream",
     "text": [
      "\n",
      "Arithmetic operations:\n",
      "-------------------------\n",
      "Sum of selected elements: 47\n",
      "-------------------------\n",
      "Subtraction of selected elements: -39\n"
     ]
    }
   ],
   "source": [
    "# 5. Perform and print some basic arithmetic operations\n",
    "sum_result = arr_1d[2] + arr_2d[1, 2] + arr_3d[0, 1, 1]\n",
    "sub_result = arr_1d[5] - arr_2d[0, 3] - arr_3d[1, 0, 2]\n",
    "print(\"\\nArithmetic operations:\")\n",
    "print(\"-------------------------\")\n",
    "print(\"Sum of selected elements:\", sum_result)\n",
    "print(\"-------------------------\")\n",
    "print(\"Subtraction of selected elements:\", sub_result)\n",
    "\n"
   ]
  },
  {
   "cell_type": "code",
   "execution_count": 17,
   "id": "c929988e-f026-4983-bbcf-c7468f930206",
   "metadata": {},
   "outputs": [
    {
     "name": "stdout",
     "output_type": "stream",
     "text": [
      "\n",
      "Accessing elements using negative indices:\n",
      "-------------------------\n",
      "Last element in 1D array: 10\n",
      "-------------------------\n",
      "Element at last row, second last column in 2D array: 21\n",
      "-------------------------\n",
      "Element at last matrix, last row, last column in 3D array: 34\n"
     ]
    }
   ],
   "source": [
    "# 6. Accessing elements using negative indices\n",
    "print(\"\\nAccessing elements using negative indices:\")\n",
    "print(\"-------------------------\")\n",
    "print(\"Last element in 1D array:\", arr_1d[-1])\n",
    "print(\"-------------------------\")\n",
    "print(\"Element at last row, second last column in 2D array:\", arr_2d[-1, -2])\n",
    "print(\"-------------------------\")\n",
    "print(\"Element at last matrix, last row, last column in 3D array:\", arr_3d[-1, -1, -1])\n"
   ]
  },
  {
   "cell_type": "code",
   "execution_count": null,
   "id": "5f5b8df9-ea44-4b50-9aaa-16747b4071bd",
   "metadata": {},
   "outputs": [],
   "source": []
  },
  {
   "cell_type": "code",
   "execution_count": null,
   "id": "a8a38dd5-0efc-4862-906d-6880877cf791",
   "metadata": {},
   "outputs": [],
   "source": []
  }
 ],
 "metadata": {
  "colab": {
   "provenance": []
  },
  "kernelspec": {
   "display_name": "Python [conda env:base] *",
   "language": "python",
   "name": "conda-base-py"
  },
  "language_info": {
   "codemirror_mode": {
    "name": "ipython",
    "version": 3
   },
   "file_extension": ".py",
   "mimetype": "text/x-python",
   "name": "python",
   "nbconvert_exporter": "python",
   "pygments_lexer": "ipython3",
   "version": "3.12.7"
  }
 },
 "nbformat": 4,
 "nbformat_minor": 5
}
